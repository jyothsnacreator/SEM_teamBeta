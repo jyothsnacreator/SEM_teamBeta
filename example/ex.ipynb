{
 "cells": [
  {
   "cell_type": "code",
   "execution_count": 1,
   "metadata": {},
   "outputs": [],
   "source": [
    "def parse(s):  # return a number\n",
    "    n = 0\n",
    "    in_fraction = False\n",
    "    d = 0.1\n",
    "    for c in s:\n",
    "        if c == \".\":\n",
    "            if not in_fraction:\n",
    "                in_fraction = True\n",
    "            else:\n",
    "                raise Exception(\"syntax error, more than one '.'\")\n",
    "        elif not in_fraction:\n",
    "            n = n * 10 + ord(c) - ord(\"0\")\n",
    "        else:\n",
    "            n = n + (ord(c) - ord(\"0\")) * d\n",
    "            d = d / 10\n",
    "    return n\n",
    "     "
   ]
  },
  {
   "cell_type": "code",
   "execution_count": 2,
   "metadata": {},
   "outputs": [
    {
     "ename": "NameError",
     "evalue": "name 'close_to' is not defined",
     "output_type": "error",
     "traceback": [
      "\u001b[0;31m---------------------------------------------------------------------------\u001b[0m",
      "\u001b[0;31mNameError\u001b[0m                                 Traceback (most recent call last)",
      "Cell \u001b[0;32mIn[2], line 7\u001b[0m\n\u001b[1;32m      5\u001b[0m     \u001b[38;5;28;01massert\u001b[39;00m close_to(parse(\u001b[38;5;124m\"\u001b[39m\u001b[38;5;124m.7\u001b[39m\u001b[38;5;124m\"\u001b[39m), \u001b[38;5;241m0.7\u001b[39m)\n\u001b[1;32m      6\u001b[0m     \u001b[38;5;28;01massert\u001b[39;00m close_to(parse(\u001b[38;5;124m\"\u001b[39m\u001b[38;5;124m7.\u001b[39m\u001b[38;5;124m\"\u001b[39m), \u001b[38;5;241m7.0\u001b[39m)\n\u001b[0;32m----> 7\u001b[0m \u001b[38;5;28;01massert\u001b[39;00m \u001b[43mclose_to\u001b[49m(parse(\u001b[38;5;124m\"\u001b[39m\u001b[38;5;124m-0.7\u001b[39m\u001b[38;5;124m\"\u001b[39m),\u001b[38;5;241m-\u001b[39m\u001b[38;5;241m0.7\u001b[39m)\n\u001b[1;32m      8\u001b[0m \u001b[38;5;28;01mdef\u001b[39;00m \u001b[38;5;21mtest_single_digit\u001b[39m():\n\u001b[1;32m      9\u001b[0m     \u001b[38;5;28;01massert\u001b[39;00m parse(\u001b[38;5;124m\"\u001b[39m\u001b[38;5;124m2\u001b[39m\u001b[38;5;124m\"\u001b[39m) \u001b[38;5;241m==\u001b[39m \u001b[38;5;241m2\u001b[39m\n",
      "\u001b[0;31mNameError\u001b[0m: name 'close_to' is not defined"
     ]
    }
   ],
   "source": [
    "def test_floating_point():\n",
    "    assert close_to(parse(\"2.1\"), 2.1)\n",
    "    assert close_to(parse(\"43.7\"), 43.7)\n",
    "    assert close_to(parse(\"2.1248\"), 2.1248)\n",
    "    assert close_to(parse(\".7\"), 0.7)\n",
    "    assert close_to(parse(\"7.\"), 7.0)\n",
    "assert close_to(parse(\"-0.7\"),-0.7)\n",
    "def test_single_digit():\n",
    "    assert parse(\"2\") == 2\n",
    "    assert parse(\"3\") == 3\n",
    "    assert parse(\"-3\")== -3\n",
    "\n",
    "#feature: a string of multiple digits must return the numeric value of the digit string\n",
    "def test_multiple_digits():\n",
    "    assert parse(\"21\") == 21\n",
    "    assert parse(\"437\") == 437\n",
    "    assert parse(\"-90\")== -90\n",
    "\n",
    "#feature: when we encounter a decimal point in the string, return the corresponding floating point number\n",
    "def close_to(x, y, delta=0.000001):\n",
    "    return abs(x - y) < delta\n",
    "\n",
    "\n",
    "def test_floating_point():\n",
    "    assert close_to(parse(\"2.1\"), 2.1)\n",
    "    assert close_to(parse(\"43.7\"), 43.7)\n",
    "    assert close_to(parse(\"2.1248\"), 2.1248)\n",
    "    assert close_to(parse(\".7\"), 0.7)\n",
    "    assert close_to(parse(\"7.\"), 7.0)\n",
    "    assert close_to(parse(\"-9.\"), -9.0)\n",
    "    assert close_to(parse(\"1e-6\"),0.000001)  \n",
    "    assert close_to(parse(\"-1e-6\"),-0.000001)\n",
    "test_single_digit()\n",
    "test_multiple_digits()\n",
    "test_floating_point()\n",
    "print(\"done.\")"
   ]
  }
 ],
 "metadata": {
  "kernelspec": {
   "display_name": "Python 3",
   "language": "python",
   "name": "python3"
  },
  "language_info": {
   "codemirror_mode": {
    "name": "ipython",
    "version": 3
   },
   "file_extension": ".py",
   "mimetype": "text/x-python",
   "name": "python",
   "nbconvert_exporter": "python",
   "pygments_lexer": "ipython3",
   "version": "3.10.13"
  }
 },
 "nbformat": 4,
 "nbformat_minor": 2
}
