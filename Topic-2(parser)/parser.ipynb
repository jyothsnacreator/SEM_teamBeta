{
 "cells": [
  {
   "cell_type": "code",
   "execution_count": 1,
   "metadata": {},
   "outputs": [],
   "source": [
    "def parse(s):  # return a number\n",
    "    n = 0\n",
    "    in_fraction = False\n",
    "    is_negative = False\n",
    "    d = 0.1\n",
    "    if s[0] ==\"-\":\n",
    "        is_negative = True\n",
    "        s=s[1:]\n",
    "    for c in s:\n",
    "        assert c in \".0123456789\"\n",
    "        if c == \".\":\n",
    "            if not in_fraction:\n",
    "                in_fraction = True\n",
    "            else:\n",
    "                raise Exception(\"syntax error, more than one '.'\")\n",
    "            continue\n",
    "        if not in_fraction:\n",
    "            n = n * 10 + ord(c) - ord(\"0\")\n",
    "        else:\n",
    "            n = n + (ord(c) - ord(\"0\")) * d\n",
    "            d = d / 10\n",
    "    if is_negative:\n",
    "        return 0-n\n",
    "    else:\n",
    "        return n\n",
    "     "
   ]
  },
  {
   "cell_type": "code",
   "execution_count": 2,
   "metadata": {},
   "outputs": [
    {
     "name": "stdout",
     "output_type": "stream",
     "text": [
      "done.\n"
     ]
    }
   ],
   "source": [
    "\n",
    "def test_single_digit():\n",
    "    assert parse(\"2\") == 2\n",
    "    assert parse(\"3\") == 3\n",
    "    \n",
    "\n",
    "#feature: a string of multiple digits must return the numeric value of the digit string\n",
    "def test_multiple_digits():\n",
    "    assert parse(\"21\") == 21\n",
    "    assert parse(\"437\") == 437\n",
    "  \n",
    "\n",
    "#feature: when we encounter a decimal point in the string, return the corresponding floating point number\n",
    "def close_to(x, y, delta=0.000001):\n",
    "    return abs(x - y) < delta\n",
    "\n",
    "\n",
    "def test_floating_point():\n",
    "    assert close_to(parse(\"2.1\"), 2.1)\n",
    "    assert close_to(parse(\"43.7\"), 43.7)\n",
    "    assert close_to(parse(\"2.1248\"), 2.1248)\n",
    "    assert close_to(parse(\".7\"), 0.7)\n",
    "    assert close_to(parse(\"7.\"), 7.0)\n",
    " \n",
    "\n",
    "#feature: when we encounter a negative number in the string, return the corresponding string with negative number.\n",
    "\n",
    "def test_negative_numbers():\n",
    "    assert parse(\"-90\")== -90\n",
    "    assert close_to(parse(\"-9.\"), -9.0)\n",
    "    assert parse(\"-3\")== -3\n",
    "    \n",
    "test_single_digit()\n",
    "test_multiple_digits()\n",
    "test_floating_point()\n",
    "test_negative_numbers()\n",
    "print(\"done.\")"
   ]
  }
 ],
 "metadata": {
  "kernelspec": {
   "display_name": "Python 3",
   "language": "python",
   "name": "python3"
  },
  "language_info": {
   "codemirror_mode": {
    "name": "ipython",
    "version": 3
   },
   "file_extension": ".py",
   "mimetype": "text/x-python",
   "name": "python",
   "nbconvert_exporter": "python",
   "pygments_lexer": "ipython3",
   "version": "3.10.13"
  }
 },
 "nbformat": 4,
 "nbformat_minor": 2
}
